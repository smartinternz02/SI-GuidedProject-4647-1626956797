{
 "cells": [
  {
   "cell_type": "markdown",
   "metadata": {},
   "source": [
    "# AI based Natural disaster analysis"
   ]
  },
  {
   "cell_type": "markdown",
   "metadata": {},
   "source": [
    "### Importing Neccessary Libraries"
   ]
  },
  {
   "cell_type": "code",
   "execution_count": 1,
   "metadata": {},
   "outputs": [
    {
     "name": "stderr",
     "output_type": "stream",
     "text": [
      "Using TensorFlow backend.\n"
     ]
    }
   ],
   "source": [
    "import numpy as np#used for numerical analysis\n",
    "import tensorflow #open source used for both ML and DL for computation\n",
    "from tensorflow.keras.models import Sequential #it is a plain stack of layers\n",
    "from tensorflow.keras import layers #A layer consists of a tensor-in tensor-out computation function\n",
    "#Dense layer is the regular deeply connected neural network layer\n",
    "from tensorflow.keras.layers import Dense,Flatten\n",
    "#Faltten-used fot flattening the input or change the dimension\n",
    "from tensorflow.keras.layers import Conv2D,MaxPooling2D #Convolutional layer\n",
    "#MaxPooling2D-for downsampling the image\n",
    "from keras.preprocessing.image import ImageDataGenerator\n"
   ]
  },
  {
   "cell_type": "code",
   "execution_count": 116,
   "metadata": {},
   "outputs": [
    {
     "data": {
      "text/plain": [
       "'2.3.0'"
      ]
     },
     "execution_count": 116,
     "metadata": {},
     "output_type": "execute_result"
    }
   ],
   "source": [
    "tensorflow.__version__"
   ]
  },
  {
   "cell_type": "code",
   "execution_count": 117,
   "metadata": {},
   "outputs": [
    {
     "data": {
      "text/plain": [
       "'2.4.0'"
      ]
     },
     "execution_count": 117,
     "metadata": {},
     "output_type": "execute_result"
    }
   ],
   "source": [
    "tensorflow.keras.__version__"
   ]
  },
  {
   "cell_type": "code",
   "execution_count": null,
   "metadata": {},
   "outputs": [],
   "source": []
  },
  {
   "cell_type": "markdown",
   "metadata": {},
   "source": [
    "### Image Data Agumentation"
   ]
  },
  {
   "cell_type": "code",
   "execution_count": 2,
   "metadata": {},
   "outputs": [],
   "source": [
    "#setting parameter for Image Data agumentation to the training data\n",
    "train_datagen = ImageDataGenerator(rescale=1./255,shear_range=0.2,zoom_range=0.2,horizontal_flip=True)\n",
    "#Image Data agumentation to the testing data\n",
    "test_datagen=ImageDataGenerator(rescale=1./255)"
   ]
  },
  {
   "cell_type": "code",
   "execution_count": null,
   "metadata": {},
   "outputs": [],
   "source": []
  },
  {
   "cell_type": "markdown",
   "metadata": {},
   "source": [
    "### Loading our data and performing data agumentation"
   ]
  },
  {
   "cell_type": "code",
   "execution_count": 6,
   "metadata": {},
   "outputs": [
    {
     "name": "stdout",
     "output_type": "stream",
     "text": [
      "Found 198 images belonging to 4 classes.\n",
      "Found 198 images belonging to 4 classes.\n"
     ]
    }
   ],
   "source": [
    "#performing data agumentation to train data\n",
    "x_train = train_datagen.flow_from_directory(r'E:\\SB1\\dataset\\dataset\\dataset\\test_set',target_size=(64, 64),batch_size=5,\n",
    "                                            color_mode='rgb',class_mode='categorical')\n",
    "#performing data agumentation to test data\n",
    "x_test = test_datagen.flow_from_directory(r'E:\\SB1\\dataset\\dataset\\dataset\\test_set',target_size=(64, 64),batch_size=5,\n",
    "                                            color_mode='rgb',class_mode='categorical') "
   ]
  },
  {
   "cell_type": "code",
   "execution_count": 7,
   "metadata": {},
   "outputs": [
    {
     "name": "stdout",
     "output_type": "stream",
     "text": [
      "{'Cyclone': 0, 'Earthquake': 1, 'Flood': 2, 'Wildfire': 3}\n"
     ]
    }
   ],
   "source": [
    "print(x_train.class_indices)#checking the number of classes"
   ]
  },
  {
   "cell_type": "code",
   "execution_count": 8,
   "metadata": {},
   "outputs": [
    {
     "name": "stdout",
     "output_type": "stream",
     "text": [
      "{'Cyclone': 0, 'Earthquake': 1, 'Flood': 2, 'Wildfire': 3}\n"
     ]
    }
   ],
   "source": [
    "print(x_test.class_indices)#checking the number of classes"
   ]
  },
  {
   "cell_type": "code",
   "execution_count": 9,
   "metadata": {},
   "outputs": [
    {
     "data": {
      "text/plain": [
       "Counter({0: 64, 1: 29, 2: 61, 3: 44})"
      ]
     },
     "execution_count": 9,
     "metadata": {},
     "output_type": "execute_result"
    }
   ],
   "source": [
    "from collections import Counter as c\n",
    "c(x_train .labels)"
   ]
  },
  {
   "cell_type": "markdown",
   "metadata": {},
   "source": [
    "### Creating the model"
   ]
  },
  {
   "cell_type": "code",
   "execution_count": 16,
   "metadata": {},
   "outputs": [],
   "source": [
    "# Initializing the CNN\n",
    "classifier = Sequential()\n",
    "\n",
    "# First convolution layer and poolingo\n",
    "classifier.add(Conv2D(32, (3, 3), input_shape=(64, 64, 3), activation='relu'))\n",
    "classifier.add(MaxPooling2D(pool_size=(2, 2)))\n",
    "classifier.add(Conv2D(32, (3, 3), input_shape=(64, 64, 3), activation='relu'))\n",
    "# Second convolution layer and pooling\n",
    "classifier.add(Conv2D(32, (3, 3), activation='relu'))\n",
    "# input_shape is going to be the pooled feature maps from the previous convolution layer\n",
    "classifier.add(MaxPooling2D(pool_size=(2, 2)))\n",
    "classifier.add(Conv2D(32, (3, 3), input_shape=(64, 64, 3), activation='relu'))\n",
    "\n",
    "# Flattening the layers\n",
    "classifier.add(Flatten())\n",
    "\n",
    "# Adding a fully connected layer\n",
    "classifier.add(Dense(units=128, activation='relu'))\n",
    "classifier.add(Dense(units=4, activation='softmax')) # softmax for more than 2\n",
    "\n"
   ]
  },
  {
   "cell_type": "code",
   "execution_count": 17,
   "metadata": {},
   "outputs": [
    {
     "name": "stdout",
     "output_type": "stream",
     "text": [
      "Model: \"sequential_2\"\n",
      "_________________________________________________________________\n",
      "Layer (type)                 Output Shape              Param #   \n",
      "=================================================================\n",
      "conv2d_6 (Conv2D)            (None, 62, 62, 32)        896       \n",
      "_________________________________________________________________\n",
      "max_pooling2d_4 (MaxPooling2 (None, 31, 31, 32)        0         \n",
      "_________________________________________________________________\n",
      "conv2d_7 (Conv2D)            (None, 29, 29, 32)        9248      \n",
      "_________________________________________________________________\n",
      "conv2d_8 (Conv2D)            (None, 27, 27, 32)        9248      \n",
      "_________________________________________________________________\n",
      "max_pooling2d_5 (MaxPooling2 (None, 13, 13, 32)        0         \n",
      "_________________________________________________________________\n",
      "conv2d_9 (Conv2D)            (None, 11, 11, 32)        9248      \n",
      "_________________________________________________________________\n",
      "flatten_2 (Flatten)          (None, 3872)              0         \n",
      "_________________________________________________________________\n",
      "dense_8 (Dense)              (None, 128)               495744    \n",
      "_________________________________________________________________\n",
      "dense_9 (Dense)              (None, 4)                 516       \n",
      "=================================================================\n",
      "Total params: 524,900\n",
      "Trainable params: 524,900\n",
      "Non-trainable params: 0\n",
      "_________________________________________________________________\n"
     ]
    }
   ],
   "source": [
    "classifier.summary()#summary of our model"
   ]
  },
  {
   "cell_type": "markdown",
   "metadata": {},
   "source": [
    "### Compiling the model"
   ]
  },
  {
   "cell_type": "code",
   "execution_count": 18,
   "metadata": {},
   "outputs": [],
   "source": [
    "# Compiling the CNN\n",
    "# categorical_crossentropy for more than 2\n",
    "classifier.compile(optimizer='adam', loss='categorical_crossentropy', metrics=['accuracy']) "
   ]
  },
  {
   "cell_type": "markdown",
   "metadata": {},
   "source": [
    "## Fitting the model"
   ]
  },
  {
   "cell_type": "code",
   "execution_count": 19,
   "metadata": {
    "scrolled": true
   },
   "outputs": [
    {
     "name": "stdout",
     "output_type": "stream",
     "text": [
      "Epoch 1/40\n",
      "40/40 [==============================] - 10s 238ms/step - loss: 1.3960 - accuracy: 0.3188 - val_loss: 1.3396 - val_accuracy: 0.3232\n",
      "Epoch 2/40\n",
      "40/40 [==============================] - 9s 233ms/step - loss: 1.3957 - accuracy: 0.2444 - val_loss: 1.3194 - val_accuracy: 0.3232\n",
      "Epoch 3/40\n",
      "40/40 [==============================] - 9s 235ms/step - loss: 1.3408 - accuracy: 0.4124 - val_loss: 1.2801 - val_accuracy: 0.3232\n",
      "Epoch 4/40\n",
      "40/40 [==============================] - 9s 230ms/step - loss: 1.2149 - accuracy: 0.3755 - val_loss: 1.2168 - val_accuracy: 0.4040\n",
      "Epoch 5/40\n",
      "40/40 [==============================] - 9s 230ms/step - loss: 1.2063 - accuracy: 0.4209 - val_loss: 1.0724 - val_accuracy: 0.5859\n",
      "Epoch 6/40\n",
      "40/40 [==============================] - 9s 233ms/step - loss: 1.0577 - accuracy: 0.5329 - val_loss: 1.1393 - val_accuracy: 0.5404\n",
      "Epoch 7/40\n",
      "40/40 [==============================] - 10s 251ms/step - loss: 0.9185 - accuracy: 0.5913 - val_loss: 0.8898 - val_accuracy: 0.6212\n",
      "Epoch 8/40\n",
      "40/40 [==============================] - 10s 258ms/step - loss: 0.9487 - accuracy: 0.6129 - val_loss: 0.8236 - val_accuracy: 0.6414\n",
      "Epoch 9/40\n",
      "40/40 [==============================] - 9s 232ms/step - loss: 0.8870 - accuracy: 0.6253 - val_loss: 0.7642 - val_accuracy: 0.7071\n",
      "Epoch 10/40\n",
      "40/40 [==============================] - 10s 259ms/step - loss: 0.7202 - accuracy: 0.7119 - val_loss: 1.6082 - val_accuracy: 0.4394\n",
      "Epoch 11/40\n",
      "40/40 [==============================] - 9s 236ms/step - loss: 0.9721 - accuracy: 0.6291 - val_loss: 0.6404 - val_accuracy: 0.7273\n",
      "Epoch 12/40\n",
      "40/40 [==============================] - 9s 239ms/step - loss: 0.7445 - accuracy: 0.7266 - val_loss: 0.6234 - val_accuracy: 0.7172\n",
      "Epoch 13/40\n",
      "40/40 [==============================] - 9s 239ms/step - loss: 0.5752 - accuracy: 0.7508 - val_loss: 0.5389 - val_accuracy: 0.7980\n",
      "Epoch 14/40\n",
      "40/40 [==============================] - 10s 242ms/step - loss: 0.6582 - accuracy: 0.7428 - val_loss: 0.4447 - val_accuracy: 0.8283\n",
      "Epoch 15/40\n",
      "40/40 [==============================] - 9s 240ms/step - loss: 0.5318 - accuracy: 0.7766 - val_loss: 0.4859 - val_accuracy: 0.8131\n",
      "Epoch 16/40\n",
      "40/40 [==============================] - 9s 240ms/step - loss: 0.4472 - accuracy: 0.8269 - val_loss: 0.6708 - val_accuracy: 0.7273\n",
      "Epoch 17/40\n",
      "40/40 [==============================] - 10s 246ms/step - loss: 0.5900 - accuracy: 0.7400 - val_loss: 0.6847 - val_accuracy: 0.7525\n",
      "Epoch 18/40\n",
      "40/40 [==============================] - 10s 249ms/step - loss: 0.5226 - accuracy: 0.8148 - val_loss: 0.8422 - val_accuracy: 0.7222\n",
      "Epoch 19/40\n",
      "40/40 [==============================] - 11s 277ms/step - loss: 0.5587 - accuracy: 0.8253 - val_loss: 0.4669 - val_accuracy: 0.8081\n",
      "Epoch 20/40\n",
      "40/40 [==============================] - 10s 265ms/step - loss: 0.4444 - accuracy: 0.8500 - val_loss: 0.5173 - val_accuracy: 0.8131\n",
      "Epoch 21/40\n",
      "40/40 [==============================] - 11s 271ms/step - loss: 0.4423 - accuracy: 0.8291 - val_loss: 0.3712 - val_accuracy: 0.8586\n",
      "Epoch 22/40\n",
      "40/40 [==============================] - 9s 237ms/step - loss: 0.3569 - accuracy: 0.8654 - val_loss: 0.3676 - val_accuracy: 0.8535\n",
      "Epoch 23/40\n",
      "40/40 [==============================] - 10s 242ms/step - loss: 0.3713 - accuracy: 0.8646 - val_loss: 0.4202 - val_accuracy: 0.8030\n",
      "Epoch 24/40\n",
      "40/40 [==============================] - 10s 256ms/step - loss: 0.3158 - accuracy: 0.8929 - val_loss: 0.5008 - val_accuracy: 0.8131\n",
      "Epoch 25/40\n",
      "40/40 [==============================] - 9s 238ms/step - loss: 0.3947 - accuracy: 0.8628 - val_loss: 0.2567 - val_accuracy: 0.9293\n",
      "Epoch 26/40\n",
      "40/40 [==============================] - 9s 241ms/step - loss: 0.2802 - accuracy: 0.8599 - val_loss: 0.2916 - val_accuracy: 0.8838\n",
      "Epoch 27/40\n",
      "40/40 [==============================] - 9s 231ms/step - loss: 0.3507 - accuracy: 0.8654 - val_loss: 0.3029 - val_accuracy: 0.9091\n",
      "Epoch 28/40\n",
      "40/40 [==============================] - 9s 242ms/step - loss: 0.5214 - accuracy: 0.7920 - val_loss: 0.6105 - val_accuracy: 0.8081\n",
      "Epoch 29/40\n",
      "40/40 [==============================] - 9s 231ms/step - loss: 0.3299 - accuracy: 0.8952 - val_loss: 0.2530 - val_accuracy: 0.9091\n",
      "Epoch 30/40\n",
      "40/40 [==============================] - 9s 228ms/step - loss: 0.2818 - accuracy: 0.9027 - val_loss: 0.2335 - val_accuracy: 0.9141\n",
      "Epoch 31/40\n",
      "40/40 [==============================] - 10s 248ms/step - loss: 0.3657 - accuracy: 0.8519 - val_loss: 0.3276 - val_accuracy: 0.8687\n",
      "Epoch 32/40\n",
      "40/40 [==============================] - 10s 248ms/step - loss: 0.1657 - accuracy: 0.9428 - val_loss: 0.3872 - val_accuracy: 0.8586\n",
      "Epoch 33/40\n",
      "40/40 [==============================] - 10s 255ms/step - loss: 0.2186 - accuracy: 0.9198 - val_loss: 0.1716 - val_accuracy: 0.9394\n",
      "Epoch 34/40\n",
      "40/40 [==============================] - 11s 276ms/step - loss: 0.2539 - accuracy: 0.8965 - val_loss: 0.1194 - val_accuracy: 0.9545\n",
      "Epoch 35/40\n",
      "40/40 [==============================] - 11s 292ms/step - loss: 0.1407 - accuracy: 0.9426 - val_loss: 0.2867 - val_accuracy: 0.8838\n",
      "Epoch 36/40\n",
      "40/40 [==============================] - 10s 245ms/step - loss: 0.2346 - accuracy: 0.8901 - val_loss: 0.1288 - val_accuracy: 0.9596\n",
      "Epoch 37/40\n",
      "40/40 [==============================] - 10s 254ms/step - loss: 0.1427 - accuracy: 0.9652 - val_loss: 0.2066 - val_accuracy: 0.8990\n",
      "Epoch 38/40\n",
      "40/40 [==============================] - 10s 262ms/step - loss: 0.0851 - accuracy: 0.9800 - val_loss: 0.0526 - val_accuracy: 0.9798\n",
      "Epoch 39/40\n",
      "40/40 [==============================] - 9s 226ms/step - loss: 0.1249 - accuracy: 0.9684 - val_loss: 0.2300 - val_accuracy: 0.9242\n",
      "Epoch 40/40\n",
      "40/40 [==============================] - 9s 236ms/step - loss: 0.0772 - accuracy: 0.9501 - val_loss: 0.1409 - val_accuracy: 0.9293\n"
     ]
    },
    {
     "data": {
      "text/plain": [
       "<tensorflow.python.keras.callbacks.History at 0x250e9b5f3a0>"
      ]
     },
     "execution_count": 19,
     "metadata": {},
     "output_type": "execute_result"
    }
   ],
   "source": [
    "classifier.fit_generator(\n",
    "        generator=x_train,steps_per_epoch = len(x_train),\n",
    "        epochs=40, validation_data=x_test,validation_steps = len(x_test))# No of images in test set"
   ]
  },
  {
   "cell_type": "markdown",
   "metadata": {},
   "source": [
    "### Saving our model"
   ]
  },
  {
   "cell_type": "code",
   "execution_count": 20,
   "metadata": {},
   "outputs": [],
   "source": [
    "# Save the model\n",
    "classifier.save('disaster_f.h5')"
   ]
  },
  {
   "cell_type": "code",
   "execution_count": 21,
   "metadata": {},
   "outputs": [],
   "source": [
    "model_json = classifier.to_json()\n",
    "with open(\"model-bw.json\", \"w\") as json_file:\n",
    "    json_file.write(model_json)"
   ]
  },
  {
   "cell_type": "code",
   "execution_count": null,
   "metadata": {},
   "outputs": [],
   "source": []
  },
  {
   "cell_type": "markdown",
   "metadata": {},
   "source": [
    "### Predicting our results"
   ]
  },
  {
   "cell_type": "code",
   "execution_count": 61,
   "metadata": {},
   "outputs": [],
   "source": [
    "from tensorflow.keras.models import load_model\n",
    "from keras.preprocessing import image\n",
    "#model = load_model(\"disaster_f.h5\") #loading the model for testing"
   ]
  },
  {
   "cell_type": "code",
   "execution_count": 77,
   "metadata": {},
   "outputs": [
    {
     "data": {
      "text/plain": [
       "array([2], dtype=int64)"
      ]
     },
     "execution_count": 77,
     "metadata": {},
     "output_type": "execute_result"
    }
   ],
   "source": [
    "img = image.load_img(r\"E:\\SB1\\owntest\\eq.jpeg\",grayscale=False,\n",
    "                     target_size= (64,64))#loading of the image\n",
    "x = image.img_to_array(img)#image to array\n",
    "x = np.expand_dims(x,axis = 0)#changing the shape\n",
    "pred = classifier.predict_classes(x)#predicting the classes\n",
    "pred"
   ]
  },
  {
   "cell_type": "code",
   "execution_count": 78,
   "metadata": {},
   "outputs": [
    {
     "data": {
      "text/plain": [
       "'Flood'"
      ]
     },
     "execution_count": 78,
     "metadata": {},
     "output_type": "execute_result"
    }
   ],
   "source": [
    "index=['Cyclone','Earthquake','Flood','Wildfire']\n",
    "result=str(index[pred[0]])\n",
    "result"
   ]
  },
  {
   "cell_type": "code",
   "execution_count": 42,
   "metadata": {},
   "outputs": [
    {
     "name": "stdout",
     "output_type": "stream",
     "text": [
      "Collecting jupyterthemes\n",
      "  Using cached jupyterthemes-0.20.0-py2.py3-none-any.whl (7.0 MB)\n"
     ]
    },
    {
     "name": "stderr",
     "output_type": "stream",
     "text": [
      "ERROR: Could not find a version that satisfies the requirement as (from versions: none)\n",
      "ERROR: No matching distribution found for as\n"
     ]
    }
   ],
   "source": [
    "!pip install jupyterthemes as jt"
   ]
  },
  {
   "cell_type": "code",
   "execution_count": 28,
   "metadata": {},
   "outputs": [
    {
     "name": "stderr",
     "output_type": "stream",
     "text": [
      "'jt' is not recognized as an internal or external command,\n",
      "operable program or batch file.\n"
     ]
    }
   ],
   "source": [
    "!jt -t monokai"
   ]
  },
  {
   "cell_type": "code",
   "execution_count": null,
   "metadata": {},
   "outputs": [],
   "source": []
  }
 ],
 "metadata": {
  "kernelspec": {
   "display_name": "Python 3",
   "language": "python",
   "name": "python3"
  },
  "language_info": {
   "codemirror_mode": {
    "name": "ipython",
    "version": 3
   },
   "file_extension": ".py",
   "mimetype": "text/x-python",
   "name": "python",
   "nbconvert_exporter": "python",
   "pygments_lexer": "ipython3",
   "version": "3.8.5"
  }
 },
 "nbformat": 4,
 "nbformat_minor": 4
}
